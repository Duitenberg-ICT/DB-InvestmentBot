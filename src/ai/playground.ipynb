{
 "cells": [
  {
   "cell_type": "code",
   "execution_count": 1,
   "metadata": {},
   "outputs": [
    {
     "name": "stderr",
     "output_type": "stream",
     "text": [
      "/Users/deniskrylov/Developer/python/DB-InvestmentBot/venv/lib/python3.9/site-packages/tqdm/auto.py:21: TqdmWarning: IProgress not found. Please update jupyter and ipywidgets. See https://ipywidgets.readthedocs.io/en/stable/user_install.html\n",
      "  from .autonotebook import tqdm as notebook_tqdm\n"
     ]
    }
   ],
   "source": [
    "import matplotlib.pyplot as plt\n",
    "import os\n",
    "import pandas as pd\n",
    "import roberta"
   ]
  },
  {
   "cell_type": "code",
   "execution_count": 2,
   "metadata": {},
   "outputs": [
    {
     "data": {
      "text/html": [
       "<div>\n",
       "<style scoped>\n",
       "    .dataframe tbody tr th:only-of-type {\n",
       "        vertical-align: middle;\n",
       "    }\n",
       "\n",
       "    .dataframe tbody tr th {\n",
       "        vertical-align: top;\n",
       "    }\n",
       "\n",
       "    .dataframe thead th {\n",
       "        text-align: right;\n",
       "    }\n",
       "</style>\n",
       "<table border=\"1\" class=\"dataframe\">\n",
       "  <thead>\n",
       "    <tr style=\"text-align: right;\">\n",
       "      <th></th>\n",
       "      <th>0</th>\n",
       "      <th>1</th>\n",
       "    </tr>\n",
       "  </thead>\n",
       "  <tbody>\n",
       "    <tr>\n",
       "      <th>0</th>\n",
       "      <td>neutral</td>\n",
       "      <td>According to Gran , the company has no plans t...</td>\n",
       "    </tr>\n",
       "    <tr>\n",
       "      <th>1</th>\n",
       "      <td>neutral</td>\n",
       "      <td>Technopolis plans to develop in stages an area...</td>\n",
       "    </tr>\n",
       "    <tr>\n",
       "      <th>2</th>\n",
       "      <td>negative</td>\n",
       "      <td>The international electronic industry company ...</td>\n",
       "    </tr>\n",
       "    <tr>\n",
       "      <th>3</th>\n",
       "      <td>positive</td>\n",
       "      <td>With the new production plant the company woul...</td>\n",
       "    </tr>\n",
       "    <tr>\n",
       "      <th>4</th>\n",
       "      <td>positive</td>\n",
       "      <td>According to the company 's updated strategy f...</td>\n",
       "    </tr>\n",
       "  </tbody>\n",
       "</table>\n",
       "</div>"
      ],
      "text/plain": [
       "          0                                                  1\n",
       "0   neutral  According to Gran , the company has no plans t...\n",
       "1   neutral  Technopolis plans to develop in stages an area...\n",
       "2  negative  The international electronic industry company ...\n",
       "3  positive  With the new production plant the company woul...\n",
       "4  positive  According to the company 's updated strategy f..."
      ]
     },
     "execution_count": 2,
     "metadata": {},
     "output_type": "execute_result"
    }
   ],
   "source": [
    "# Read in the data\n",
    "data_folder = os.path.join(os.getcwd())\n",
    "df = pd.read_csv(data_folder + '/data/news/all-data.csv', sep=',', header=None, encoding='latin-1')\n",
    "df.head()"
   ]
  },
  {
   "cell_type": "code",
   "execution_count": 3,
   "metadata": {},
   "outputs": [
    {
     "data": {
      "image/png": "[encoded data removed]",
      "text/plain": [
       "<Figure size 1000x500 with 1 Axes>"
      ]
     },
     "metadata": {},
     "output_type": "display_data"
    }
   ],
   "source": [
    "ax = df[0].value_counts().sort_index() \\\n",
    "    .plot(kind='bar', \n",
    "          title='Number of News Articles in Each Category', \n",
    "          figsize=(10, 5))\n",
    "ax.set_xlabel('Category')\n",
    "plt.show()\n",
    "\n",
    "# WARNING: Dataset is slightly biased towards neutral news articles."
   ]
  },
  {
   "cell_type": "code",
   "execution_count": 4,
   "metadata": {},
   "outputs": [
    {
     "name": "stdout",
     "output_type": "stream",
     "text": [
      "{0: {'negative': 0.023855343, 'neutral': 0.6959839, 'positive': 0.28016075}, 1: {'negative': 0.013207654, 'neutral': 0.8397922, 'positive': 0.14700012}, 2: {'negative': 0.51106095, 'neutral': 0.45607838, 'positive': 0.032860614}, 3: {'negative': 0.0027569358, 'neutral': 0.26254302, 'positive': 0.7347}, 4: {'negative': 0.004494323, 'neutral': 0.69130766, 'positive': 0.30419803}, 5: {'negative': 0.002367295, 'neutral': 0.2778013, 'positive': 0.71983135}, 6: {'negative': 0.15126555, 'neutral': 0.71191376, 'positive': 0.13682069}, 7: {'negative': 0.007120916, 'neutral': 0.7428842, 'positive': 0.24999481}, 8: {'negative': 0.0065299803, 'neutral': 0.647084, 'positive': 0.34638602}, 9: {'negative': 0.014517601, 'neutral': 0.7914965, 'positive': 0.19398583}, 10: {'negative': 0.001948813, 'neutral': 0.20561944, 'positive': 0.7924318}, 11: {'negative': 0.0028055033, 'neutral': 0.45630455, 'positive': 0.5408899}, 12: {'negative': 0.017383661, 'neutral': 0.9392445, 'positive': 0.043371823}, 13: {'negative': 0.0050222687, 'neutral': 0.56685084, 'positive': 0.4281268}, 14: {'negative': 0.0034814184, 'neutral': 0.42402712, 'positive': 0.5724915}, 15: {'negative': 0.0481636, 'neutral': 0.777581, 'positive': 0.17425539}, 16: {'negative': 0.007056187, 'neutral': 0.69640374, 'positive': 0.29654002}, 17: {'negative': 0.0020063806, 'neutral': 0.26819324, 'positive': 0.7298004}, 18: {'negative': 0.003139237, 'neutral': 0.48052007, 'positive': 0.5163407}, 19: {'negative': 0.006462427, 'neutral': 0.8453017, 'positive': 0.14823587}}\n"
     ]
    }
   ],
   "source": [
    "# Take first 20 news articles for speed\n",
    "df = df.head(20)\n",
    "\n",
    "res = {}\n",
    "for i, row in df.iterrows():\n",
    "    try:\n",
    "        text = row[1]\n",
    "        roberta_result = roberta.polarity_scores(text)\n",
    "        res[i] = roberta_result\n",
    "    except RuntimeError:\n",
    "        print(f\"Failed to encode row: {i}\")\n",
    "print(res)"
   ]
  }
 ],
 "metadata": {
  "kernelspec": {
   "display_name": "venv",
   "language": "python",
   "name": "python3"
  },
  "language_info": {
   "codemirror_mode": {
    "name": "ipython",
    "version": 3
   },
   "file_extension": ".py",
   "mimetype": "text/x-python",
   "name": "python",
   "nbconvert_exporter": "python",
   "pygments_lexer": "ipython3",
   "version": "3.9.6"
  }
 },
 "nbformat": 4,
 "nbformat_minor": 2
}
